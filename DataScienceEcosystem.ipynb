{
 "cells": [
  {
   "cell_type": "markdown",
   "id": "914a3f54-3f96-46d4-b5fc-7d3c8283fb32",
   "metadata": {},
   "source": [
    "# Data Science Tools and Ecosystem"
   ]
  },
  {
   "cell_type": "markdown",
   "id": "18715af8-0a20-40cc-8ebb-df0241029eb4",
   "metadata": {},
   "source": [
    "In this notebook, Data Science Tools and Ecosystem are summarized."
   ]
  },
  {
   "cell_type": "markdown",
   "id": "4f6c9a49-18f4-41ac-8f0f-48a3c6ebfdeb",
   "metadata": {
    "tags": []
   },
   "source": [
    "Some of the popular languages that Data Scientists use are:"
   ]
  },
  {
   "cell_type": "markdown",
   "id": "878fda9c-d44a-49e1-848d-08b83f208b73",
   "metadata": {
    "tags": []
   },
   "source": [
    "1. Python\n",
    "2. Java\n",
    "3. R"
   ]
  },
  {
   "cell_type": "markdown",
   "id": "a7f27ef2-e71d-4981-b16c-fccff8d51006",
   "metadata": {},
   "source": [
    "Some of the commonly used libraries used by Data Scientists include:"
   ]
  },
  {
   "cell_type": "markdown",
   "id": "2bff6a9d-7b09-42f0-b84d-4226aa9565eb",
   "metadata": {},
   "source": [
    "1. Ggplot\n",
    "2. Pandas\n",
    "3. Numpy"
   ]
  },
  {
   "cell_type": "markdown",
   "id": "ce306930-353b-4767-a63a-0ffab6a4d9c5",
   "metadata": {},
   "source": [
    "|Data Science Tools|\n",
    "|------------------|\n",
    "|Jupyter notebook|\n",
    "|Rstudio|\n",
    "|Anaconda|"
   ]
  },
  {
   "cell_type": "markdown",
   "id": "54175600-e8f5-4d1b-9edc-1a58d4483064",
   "metadata": {},
   "source": [
    "### Below are a few examples of evaluating arithmetic expressions in Python"
   ]
  },
  {
   "cell_type": "code",
   "execution_count": 5,
   "id": "bad571db-1937-4065-8efa-a407b4b99b49",
   "metadata": {
    "tags": []
   },
   "outputs": [
    {
     "data": {
      "text/plain": [
       "17"
      ]
     },
     "execution_count": 5,
     "metadata": {},
     "output_type": "execute_result"
    }
   ],
   "source": [
    "#This a simple arithmetic expression to mutiply then add integers\n",
    "(3*4)+5"
   ]
  },
  {
   "cell_type": "code",
   "execution_count": 6,
   "id": "94b198c0-1e0e-4718-a4d1-73ee49ddec90",
   "metadata": {
    "tags": []
   },
   "outputs": [
    {
     "data": {
      "text/plain": [
       "3.3333333333333335"
      ]
     },
     "execution_count": 6,
     "metadata": {},
     "output_type": "execute_result"
    }
   ],
   "source": [
    "#This will convert 200 minutes to hours by diving by 60\n",
    "(200/60)"
   ]
  },
  {
   "cell_type": "markdown",
   "id": "d56ee1ed-a32c-4331-ab19-b6761dac1a66",
   "metadata": {},
   "source": [
    "**Objectives:**\n",
    "\n",
    "+ Write headers of different types \n",
    "+ Make simple arithmetic computations\n",
    "+ Create a list of tools in data science\n",
    "+ Write bold sentences \n",
    "+ List libraries used in data science"
   ]
  },
  {
   "cell_type": "markdown",
   "id": "73d954e6-2e12-4c72-b8df-8cba17367c06",
   "metadata": {},
   "source": [
    "## Author\n",
    "Jean-Axel Desire"
   ]
  },
  {
   "cell_type": "code",
   "execution_count": null,
   "id": "b957fb65-b72c-40fe-9656-372c8852c31e",
   "metadata": {},
   "outputs": [],
   "source": []
  }
 ],
 "metadata": {
  "kernelspec": {
   "display_name": "Python 3 (ipykernel)",
   "language": "python",
   "name": "python3"
  },
  "language_info": {
   "codemirror_mode": {
    "name": "ipython",
    "version": 3
   },
   "file_extension": ".py",
   "mimetype": "text/x-python",
   "name": "python",
   "nbconvert_exporter": "python",
   "pygments_lexer": "ipython3",
   "version": "3.11.4"
  }
 },
 "nbformat": 4,
 "nbformat_minor": 5
}
